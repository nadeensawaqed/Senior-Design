{
 "cells": [
  {
   "cell_type": "markdown",
   "metadata": {},
   "source": [
    "# Navigation!"
   ]
  },
  {
   "cell_type": "markdown",
   "metadata": {},
   "source": [
    "### Import some libraries"
   ]
  },
  {
   "cell_type": "code",
   "execution_count": 21,
   "metadata": {},
   "outputs": [],
   "source": [
    "import os\n",
    "import json\n",
    "import numpy as np"
   ]
  },
  {
   "cell_type": "markdown",
   "metadata": {},
   "source": [
    "### Generate Hall Data"
   ]
  },
  {
   "cell_type": "code",
   "execution_count": 22,
   "metadata": {},
   "outputs": [],
   "source": [
    "hallDCdict = {'Classrooms' : ['E'], 'HallJunctions' : ['C', 'D']}\n",
    "hallADdict = {'Classrooms' : []   , 'HallJunctions' : ['A', 'D']}\n",
    "hallBAdict = {'Classrooms' : []   , 'HallJunctions' : ['A', 'B']}"
   ]
  },
  {
   "cell_type": "markdown",
   "metadata": {},
   "source": [
    "### Generate Sign Data"
   ]
  },
  {
   "cell_type": "code",
   "execution_count": 27,
   "metadata": {},
   "outputs": [],
   "source": [
    "# The np.array().T is a vector relative to A! measured in feet!\n",
    "# This assumes that north is positive!\n",
    "signAdict = {'ConnectedTo' : {\n",
    "                              'D' : np.array([0.0, 82.33, 0.0]), \n",
    "                              'B' : np.array([69.0, 0.0, 0.0])\n",
    "                              }}\n",
    "\n",
    "signBdict = {'ConnectedTo' : {\n",
    "                              'A' : np.array([-69.0, 0.0, 0.0]),\n",
    "                              'C' : np.array([0.0, 81.0, 0.0])\n",
    "                              }}\n",
    "\n",
    "signCdict = {'ConnectedTo' : {\n",
    "                              'B' : np.array([0.0, 0.0, 0.0]),\n",
    "                              'E' : np.array([0.0, 0.0, 0.0]),\n",
    "                              'D' : np.array([0.0, 0.0, 0.0])\n",
    "                              }}\n",
    "\n",
    "signDdict = {'ConnectedTo' : {\n",
    "                              'A' : np.array([0.0, 0.0, 0.0]),\n",
    "                              'E' : np.array([0.0, 0.0, 0.0]), \n",
    "                              'C' : np.array([0.0, 0.0, 0.0])\n",
    "                              }}\n",
    "\n",
    "signEdict = {'ConnectedTo' : {\n",
    "                              'D' : np.array([0.0, 0.0, 0.0]), \n",
    "                              'C' : np.array([0.0, 0.0, 0.0])\n",
    "                              }}\n"
   ]
  },
  {
   "cell_type": "code",
   "execution_count": 28,
   "metadata": {},
   "outputs": [],
   "source": [
    "hallDCjson = json.dumps(hallDCdict)\n",
    "hallADjson = json.dumps(hallADdict)\n",
    "hallBAjson = json.dumps(hallBAdict)"
   ]
  },
  {
   "cell_type": "markdown",
   "metadata": {},
   "source": [
    "### Create A Hallway Class"
   ]
  },
  {
   "cell_type": "code",
   "execution_count": 36,
   "metadata": {},
   "outputs": [],
   "source": [
    "class Hallway:\n",
    "    def __init__(self, HallData):\n",
    "        self.hallJunctions = HallData['HallJunctions']\n",
    "        self.Classrooms = HallData['Classrooms']"
   ]
  },
  {
   "cell_type": "markdown",
   "metadata": {},
   "source": [
    "### Create a sign class"
   ]
  },
  {
   "cell_type": "code",
   "execution_count": 37,
   "metadata": {},
   "outputs": [],
   "source": [
    "class Sign:\n",
    "    def __init__(self, signData):\n",
    "        self.connectedTo = signData['ConnectedTo']"
   ]
  },
  {
   "cell_type": "markdown",
   "metadata": {},
   "source": [
    "### Navigate from A to E!"
   ]
  },
  {
   "cell_type": "markdown",
   "metadata": {},
   "source": [
    "#### Define Hallway's"
   ]
  },
  {
   "cell_type": "code",
   "execution_count": 43,
   "metadata": {},
   "outputs": [],
   "source": [
    "hallwayAD = Hallway(hallADdict)\n",
    "hallwayBA = Hallway(hallBAdict)\n",
    "hallwayDC = Hallway(hallDCdict)"
   ]
  },
  {
   "cell_type": "markdown",
   "metadata": {},
   "source": [
    "#### Define Signs"
   ]
  },
  {
   "cell_type": "code",
   "execution_count": 45,
   "metadata": {},
   "outputs": [],
   "source": [
    "signA = Sign(signAdict)\n",
    "signB = Sign(signBdict)\n",
    "signC = Sign(signCdict)\n",
    "signD = Sign(signDdict)\n",
    "signE = Sign(signEdict)"
   ]
  },
  {
   "cell_type": "markdown",
   "metadata": {},
   "source": [
    "#### Not sure what to do next!"
   ]
  },
  {
   "cell_type": "code",
   "execution_count": null,
   "metadata": {},
   "outputs": [],
   "source": []
  }
 ],
 "metadata": {
  "interpreter": {
   "hash": "31f2aee4e71d21fbe5cf8b01ff0e069b9275f58929596ceb00d14d90e3e16cd6"
  },
  "kernelspec": {
   "display_name": "Python 3.8.9 64-bit",
   "language": "python",
   "name": "python3"
  },
  "language_info": {
   "codemirror_mode": {
    "name": "ipython",
    "version": 3
   },
   "file_extension": ".py",
   "mimetype": "text/x-python",
   "name": "python",
   "nbconvert_exporter": "python",
   "pygments_lexer": "ipython3",
   "version": "3.8.8"
  },
  "orig_nbformat": 4
 },
 "nbformat": 4,
 "nbformat_minor": 2
}
